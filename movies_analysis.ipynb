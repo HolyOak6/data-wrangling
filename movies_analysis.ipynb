{
 "cells": [
  {
   "cell_type": "markdown",
   "id": "cf2da3fc-da8c-4e21-8dbd-7d64fee6ad57",
   "metadata": {},
   "source": [
    "# Data Wrangling & Analysis: Movies and Box Office\n",
    "\n",
    "**Data Sources**\n",
    "The analysis uses three separate CSV datasets obtained from Kaggle:\n",
    "1. Movie Ratings Dataset – Contains user ratings for movies (userId, movie_id, rating, timestamp).\n",
    "2. Movie Details Dataset – Includes movie metadata like Title and genres.\n",
    "3. Box Office Dataset – Contains gross revenue for movies (Title, Gross).\n",
    "\n",
    "The datasets were merged using the movie_id as the primary key to combine ratings with metadata when possible, and Title was used to link box office revenue. This setup allowed a comprehensive analysis of both audience ratings and financial performance.\n",
    "\n",
    "**Questions to Answer:**\n",
    "\n",
    "1. Which movies have the highest average rating?  \n",
    "2. Which movies earned the most at the box office?  \n",
    "3. Which genres generate the highest total revenue and average ratings?  \n",
    "4. Is there a correlation between average rating and box office revenue?  \n",
    "5. Which movies are outliers in revenue vs. ratings?\n"
   ]
  },
  {
   "cell_type": "markdown",
   "id": "6c4c2e41-4a40-40d3-b13a-b229db1b208f",
   "metadata": {},
   "source": [
    "#Acquisition/Exploration"
   ]
  },
  {
   "cell_type": "code",
   "execution_count": 134,
   "id": "3752b049-5a84-42ca-bcee-ef133e2f13d1",
   "metadata": {},
   "outputs": [],
   "source": [
    "import pandas as pd\n",
    "import matplotlib.pyplot as plt"
   ]
  },
  {
   "cell_type": "code",
   "execution_count": 135,
   "id": "18ad52a8-db96-47f3-8002-87a15af36d37",
   "metadata": {},
   "outputs": [],
   "source": [
    "box_df = pd.read_csv(\"C:/Users/Ricki/.cache/kagglehub/datasets/harios/box-office/versions/1/boxoffice_data_2024.csv\")\n",
    "movie_df = pd.read_csv(\"C:/Users/Ricki/.cache/kagglehub/datasets/harios/box-office/versions/1/movie.csv\")\n",
    "rating_df = pd.read_csv(\"C:/Users/Ricki/.cache/kagglehub/datasets/harios/box-office/versions/1/rating.csv\")"
   ]
  },
  {
   "cell_type": "code",
   "execution_count": 136,
   "id": "41bba764-6120-424d-8993-12a93f8d35be",
   "metadata": {},
   "outputs": [
    {
     "data": {
      "text/html": [
       "<div>\n",
       "<style scoped>\n",
       "    .dataframe tbody tr th:only-of-type {\n",
       "        vertical-align: middle;\n",
       "    }\n",
       "\n",
       "    .dataframe tbody tr th {\n",
       "        vertical-align: top;\n",
       "    }\n",
       "\n",
       "    .dataframe thead th {\n",
       "        text-align: right;\n",
       "    }\n",
       "</style>\n",
       "<table border=\"1\" class=\"dataframe\">\n",
       "  <thead>\n",
       "    <tr style=\"text-align: right;\">\n",
       "      <th></th>\n",
       "      <th>Year</th>\n",
       "      <th>Title</th>\n",
       "      <th>Gross</th>\n",
       "    </tr>\n",
       "  </thead>\n",
       "  <tbody>\n",
       "    <tr>\n",
       "      <th>0</th>\n",
       "      <td>1984</td>\n",
       "      <td>Beverly Hills Cop</td>\n",
       "      <td>$234,760,478</td>\n",
       "    </tr>\n",
       "    <tr>\n",
       "      <th>1</th>\n",
       "      <td>1984</td>\n",
       "      <td>Ghostbusters</td>\n",
       "      <td>$229,376,332</td>\n",
       "    </tr>\n",
       "    <tr>\n",
       "      <th>2</th>\n",
       "      <td>1984</td>\n",
       "      <td>Indiana Jones and the Temple of Doom</td>\n",
       "      <td>$179,876,727</td>\n",
       "    </tr>\n",
       "    <tr>\n",
       "      <th>3</th>\n",
       "      <td>1984</td>\n",
       "      <td>Gremlins</td>\n",
       "      <td>$148,171,538</td>\n",
       "    </tr>\n",
       "    <tr>\n",
       "      <th>4</th>\n",
       "      <td>1984</td>\n",
       "      <td>The Karate Kid</td>\n",
       "      <td>$90,817,155</td>\n",
       "    </tr>\n",
       "  </tbody>\n",
       "</table>\n",
       "</div>"
      ],
      "text/plain": [
       "   Year                                 Title         Gross\n",
       "0  1984                     Beverly Hills Cop  $234,760,478\n",
       "1  1984                          Ghostbusters  $229,376,332\n",
       "2  1984  Indiana Jones and the Temple of Doom  $179,876,727\n",
       "3  1984                              Gremlins  $148,171,538\n",
       "4  1984                        The Karate Kid   $90,817,155"
      ]
     },
     "execution_count": 136,
     "metadata": {},
     "output_type": "execute_result"
    }
   ],
   "source": [
    "box_df.head()"
   ]
  },
  {
   "cell_type": "code",
   "execution_count": 158,
   "id": "636c4e23-f658-40a9-aef5-535e673f02f6",
   "metadata": {},
   "outputs": [
    {
     "data": {
      "text/html": [
       "<div>\n",
       "<style scoped>\n",
       "    .dataframe tbody tr th:only-of-type {\n",
       "        vertical-align: middle;\n",
       "    }\n",
       "\n",
       "    .dataframe tbody tr th {\n",
       "        vertical-align: top;\n",
       "    }\n",
       "\n",
       "    .dataframe thead th {\n",
       "        text-align: right;\n",
       "    }\n",
       "</style>\n",
       "<table border=\"1\" class=\"dataframe\">\n",
       "  <thead>\n",
       "    <tr style=\"text-align: right;\">\n",
       "      <th></th>\n",
       "      <th>movieId</th>\n",
       "      <th>title</th>\n",
       "      <th>genres</th>\n",
       "    </tr>\n",
       "  </thead>\n",
       "  <tbody>\n",
       "    <tr>\n",
       "      <th>0</th>\n",
       "      <td>1</td>\n",
       "      <td>Toy Story (1995)</td>\n",
       "      <td>Adventure|Animation|Children|Comedy|Fantasy</td>\n",
       "    </tr>\n",
       "    <tr>\n",
       "      <th>1</th>\n",
       "      <td>2</td>\n",
       "      <td>Jumanji (1995)</td>\n",
       "      <td>Adventure|Children|Fantasy</td>\n",
       "    </tr>\n",
       "    <tr>\n",
       "      <th>2</th>\n",
       "      <td>3</td>\n",
       "      <td>Grumpier Old Men (1995)</td>\n",
       "      <td>Comedy|Romance</td>\n",
       "    </tr>\n",
       "    <tr>\n",
       "      <th>3</th>\n",
       "      <td>4</td>\n",
       "      <td>Waiting to Exhale (1995)</td>\n",
       "      <td>Comedy|Drama|Romance</td>\n",
       "    </tr>\n",
       "    <tr>\n",
       "      <th>4</th>\n",
       "      <td>5</td>\n",
       "      <td>Father of the Bride Part II (1995)</td>\n",
       "      <td>Comedy</td>\n",
       "    </tr>\n",
       "  </tbody>\n",
       "</table>\n",
       "</div>"
      ],
      "text/plain": [
       "   movieId                               title  \\\n",
       "0        1                    Toy Story (1995)   \n",
       "1        2                      Jumanji (1995)   \n",
       "2        3             Grumpier Old Men (1995)   \n",
       "3        4            Waiting to Exhale (1995)   \n",
       "4        5  Father of the Bride Part II (1995)   \n",
       "\n",
       "                                        genres  \n",
       "0  Adventure|Animation|Children|Comedy|Fantasy  \n",
       "1                   Adventure|Children|Fantasy  \n",
       "2                               Comedy|Romance  \n",
       "3                         Comedy|Drama|Romance  \n",
       "4                                       Comedy  "
      ]
     },
     "execution_count": 158,
     "metadata": {},
     "output_type": "execute_result"
    }
   ],
   "source": [
    "movie_df.head()"
   ]
  },
  {
   "cell_type": "code",
   "execution_count": 138,
   "id": "315867fa-efe8-4f50-a6f4-c4bdf172fb25",
   "metadata": {},
   "outputs": [
    {
     "data": {
      "text/html": [
       "<div>\n",
       "<style scoped>\n",
       "    .dataframe tbody tr th:only-of-type {\n",
       "        vertical-align: middle;\n",
       "    }\n",
       "\n",
       "    .dataframe tbody tr th {\n",
       "        vertical-align: top;\n",
       "    }\n",
       "\n",
       "    .dataframe thead th {\n",
       "        text-align: right;\n",
       "    }\n",
       "</style>\n",
       "<table border=\"1\" class=\"dataframe\">\n",
       "  <thead>\n",
       "    <tr style=\"text-align: right;\">\n",
       "      <th></th>\n",
       "      <th>userId</th>\n",
       "      <th>movieId</th>\n",
       "      <th>rating</th>\n",
       "      <th>timestamp</th>\n",
       "    </tr>\n",
       "  </thead>\n",
       "  <tbody>\n",
       "    <tr>\n",
       "      <th>0</th>\n",
       "      <td>1</td>\n",
       "      <td>2</td>\n",
       "      <td>3.5</td>\n",
       "      <td>2005-04-02 23:53:47</td>\n",
       "    </tr>\n",
       "    <tr>\n",
       "      <th>1</th>\n",
       "      <td>1</td>\n",
       "      <td>29</td>\n",
       "      <td>3.5</td>\n",
       "      <td>2005-04-02 23:31:16</td>\n",
       "    </tr>\n",
       "    <tr>\n",
       "      <th>2</th>\n",
       "      <td>1</td>\n",
       "      <td>32</td>\n",
       "      <td>3.5</td>\n",
       "      <td>2005-04-02 23:33:39</td>\n",
       "    </tr>\n",
       "    <tr>\n",
       "      <th>3</th>\n",
       "      <td>1</td>\n",
       "      <td>47</td>\n",
       "      <td>3.5</td>\n",
       "      <td>2005-04-02 23:32:07</td>\n",
       "    </tr>\n",
       "    <tr>\n",
       "      <th>4</th>\n",
       "      <td>1</td>\n",
       "      <td>50</td>\n",
       "      <td>3.5</td>\n",
       "      <td>2005-04-02 23:29:40</td>\n",
       "    </tr>\n",
       "  </tbody>\n",
       "</table>\n",
       "</div>"
      ],
      "text/plain": [
       "   userId  movieId  rating            timestamp\n",
       "0       1        2     3.5  2005-04-02 23:53:47\n",
       "1       1       29     3.5  2005-04-02 23:31:16\n",
       "2       1       32     3.5  2005-04-02 23:33:39\n",
       "3       1       47     3.5  2005-04-02 23:32:07\n",
       "4       1       50     3.5  2005-04-02 23:29:40"
      ]
     },
     "execution_count": 138,
     "metadata": {},
     "output_type": "execute_result"
    }
   ],
   "source": [
    "rating_df.head()"
   ]
  },
  {
   "cell_type": "markdown",
   "id": "0ba4dfb9-71b8-43c5-8f24-eed86f1802a4",
   "metadata": {},
   "source": [
    "#Cleaning the title column\n",
    "Some titles in one dataset included the release year (e.g., \"Jumanji (1995)\") while the other dataset had just \"Jumanji\". To prevent duplicate or mismatched rows during the merge, I removed the year from the title column so that both datasets have consistent movie titles. This ensures that the inner merge correctly pairs each movie’s ratings with its box office data.\n",
    "\n",
    "Merging datasets: The first merge was done on movieId because it is the unique identifier for each movie, ensuring that ratings match the correct movies. After this, the movie titles were cleaned to remove the year in parentheses for consistency. The second merge (with the third dataset) was done on the title column, since the third dataset didn’t include movieId. This ensures that all available information aligns correctly across the datasets.\n",
    "\n",
    "-Setting movie_id as the index\n",
    "I set movie_id as the index to make data lookup easier and prevent duplicate rows from interfering with analysis. This also makes the dataframe more organized and ready for further analysis."
   ]
  },
  {
   "cell_type": "code",
   "execution_count": 139,
   "id": "6db199e1-9c55-479a-8724-7b94e5dfed2e",
   "metadata": {},
   "outputs": [],
   "source": [
    "movies_and_ratings = movie_df.merge(rating_df, how=\"inner\", on=\"movieId\")\n",
    "movies_and_ratings['title'] = movies_and_ratings['title'].str.replace(r'\\s*\\(\\d{4}\\)$', '', regex=True)"
   ]
  },
  {
   "cell_type": "code",
   "execution_count": 140,
   "id": "15def6dc-395c-4750-85e7-0a8714549e8b",
   "metadata": {},
   "outputs": [],
   "source": [
    "clean_df = movies_and_ratings.merge(box_df, \n",
    "                                    left_on=\"title\", \n",
    "                                    right_on=\"Title\", \n",
    "                                    how=\"inner\").set_index(\"movieId\", inplace=False)"
   ]
  },
  {
   "cell_type": "code",
   "execution_count": 141,
   "id": "8eabff9c-c641-4491-aaf8-624f28e79be6",
   "metadata": {},
   "outputs": [
    {
     "data": {
      "text/html": [
       "<div>\n",
       "<style scoped>\n",
       "    .dataframe tbody tr th:only-of-type {\n",
       "        vertical-align: middle;\n",
       "    }\n",
       "\n",
       "    .dataframe tbody tr th {\n",
       "        vertical-align: top;\n",
       "    }\n",
       "\n",
       "    .dataframe thead th {\n",
       "        text-align: right;\n",
       "    }\n",
       "</style>\n",
       "<table border=\"1\" class=\"dataframe\">\n",
       "  <thead>\n",
       "    <tr style=\"text-align: right;\">\n",
       "      <th></th>\n",
       "      <th>movieId</th>\n",
       "      <th>title</th>\n",
       "      <th>genres</th>\n",
       "      <th>userId</th>\n",
       "      <th>rating</th>\n",
       "      <th>timestamp</th>\n",
       "    </tr>\n",
       "  </thead>\n",
       "  <tbody>\n",
       "    <tr>\n",
       "      <th>0</th>\n",
       "      <td>1</td>\n",
       "      <td>Toy Story</td>\n",
       "      <td>Adventure|Animation|Children|Comedy|Fantasy</td>\n",
       "      <td>3</td>\n",
       "      <td>4.0</td>\n",
       "      <td>1999-12-11 13:36:47</td>\n",
       "    </tr>\n",
       "    <tr>\n",
       "      <th>1</th>\n",
       "      <td>1</td>\n",
       "      <td>Toy Story</td>\n",
       "      <td>Adventure|Animation|Children|Comedy|Fantasy</td>\n",
       "      <td>6</td>\n",
       "      <td>5.0</td>\n",
       "      <td>1997-03-13 17:50:52</td>\n",
       "    </tr>\n",
       "    <tr>\n",
       "      <th>2</th>\n",
       "      <td>1</td>\n",
       "      <td>Toy Story</td>\n",
       "      <td>Adventure|Animation|Children|Comedy|Fantasy</td>\n",
       "      <td>8</td>\n",
       "      <td>4.0</td>\n",
       "      <td>1996-06-05 13:37:51</td>\n",
       "    </tr>\n",
       "    <tr>\n",
       "      <th>3</th>\n",
       "      <td>1</td>\n",
       "      <td>Toy Story</td>\n",
       "      <td>Adventure|Animation|Children|Comedy|Fantasy</td>\n",
       "      <td>10</td>\n",
       "      <td>4.0</td>\n",
       "      <td>1999-11-25 02:44:47</td>\n",
       "    </tr>\n",
       "    <tr>\n",
       "      <th>4</th>\n",
       "      <td>1</td>\n",
       "      <td>Toy Story</td>\n",
       "      <td>Adventure|Animation|Children|Comedy|Fantasy</td>\n",
       "      <td>11</td>\n",
       "      <td>4.5</td>\n",
       "      <td>2009-01-02 01:13:41</td>\n",
       "    </tr>\n",
       "  </tbody>\n",
       "</table>\n",
       "</div>"
      ],
      "text/plain": [
       "   movieId      title                                       genres  userId  \\\n",
       "0        1  Toy Story  Adventure|Animation|Children|Comedy|Fantasy       3   \n",
       "1        1  Toy Story  Adventure|Animation|Children|Comedy|Fantasy       6   \n",
       "2        1  Toy Story  Adventure|Animation|Children|Comedy|Fantasy       8   \n",
       "3        1  Toy Story  Adventure|Animation|Children|Comedy|Fantasy      10   \n",
       "4        1  Toy Story  Adventure|Animation|Children|Comedy|Fantasy      11   \n",
       "\n",
       "   rating            timestamp  \n",
       "0     4.0  1999-12-11 13:36:47  \n",
       "1     5.0  1997-03-13 17:50:52  \n",
       "2     4.0  1996-06-05 13:37:51  \n",
       "3     4.0  1999-11-25 02:44:47  \n",
       "4     4.5  2009-01-02 01:13:41  "
      ]
     },
     "execution_count": 141,
     "metadata": {},
     "output_type": "execute_result"
    }
   ],
   "source": [
    "movies_and_ratings.head()"
   ]
  },
  {
   "cell_type": "code",
   "execution_count": 142,
   "id": "e4892db1-0f84-4452-b68e-c0e6eaf079b9",
   "metadata": {},
   "outputs": [
    {
     "name": "stdout",
     "output_type": "stream",
     "text": [
      "<class 'pandas.core.frame.DataFrame'>\n",
      "RangeIndex: 20000263 entries, 0 to 20000262\n",
      "Data columns (total 6 columns):\n",
      " #   Column     Dtype  \n",
      "---  ------     -----  \n",
      " 0   movieId    int64  \n",
      " 1   title      object \n",
      " 2   genres     object \n",
      " 3   userId     int64  \n",
      " 4   rating     float64\n",
      " 5   timestamp  object \n",
      "dtypes: float64(1), int64(2), object(3)\n",
      "memory usage: 915.5+ MB\n"
     ]
    }
   ],
   "source": [
    "movies_and_ratings.info()"
   ]
  },
  {
   "cell_type": "markdown",
   "id": "795cd55b-72c4-4193-9114-0d30ec223cab",
   "metadata": {},
   "source": [
    "#Data Cleaning\n",
    "\n",
    "Before starting analysis, the dataset was cleaned and prepared:\n",
    "\n",
    "1. Select Relevant Columns – Chose only the columns needed for analysis (Title, Genres, UserId, Rating, Timestamp, Year, Gross) and dropped any duplicates or irrelevant data.\n",
    "2. Format Column Names – Replaced underscores with spaces and converted to title case for readability.\n",
    "3. Clean Gross Column – Removed dollar signs and commas, then converted the column to numeric so it can be used in calculations and aggregations."
   ]
  },
  {
   "cell_type": "code",
   "execution_count": 143,
   "id": "4bf8c92f-6599-4a1c-a549-135aa4ed2817",
   "metadata": {},
   "outputs": [
    {
     "data": {
      "text/html": [
       "<div>\n",
       "<style scoped>\n",
       "    .dataframe tbody tr th:only-of-type {\n",
       "        vertical-align: middle;\n",
       "    }\n",
       "\n",
       "    .dataframe tbody tr th {\n",
       "        vertical-align: top;\n",
       "    }\n",
       "\n",
       "    .dataframe thead th {\n",
       "        text-align: right;\n",
       "    }\n",
       "</style>\n",
       "<table border=\"1\" class=\"dataframe\">\n",
       "  <thead>\n",
       "    <tr style=\"text-align: right;\">\n",
       "      <th></th>\n",
       "      <th>Title</th>\n",
       "      <th>Genres</th>\n",
       "      <th>Userid</th>\n",
       "      <th>Rating</th>\n",
       "      <th>Timestamp</th>\n",
       "      <th>Year</th>\n",
       "      <th>Gross</th>\n",
       "    </tr>\n",
       "    <tr>\n",
       "      <th>movieId</th>\n",
       "      <th></th>\n",
       "      <th></th>\n",
       "      <th></th>\n",
       "      <th></th>\n",
       "      <th></th>\n",
       "      <th></th>\n",
       "      <th></th>\n",
       "    </tr>\n",
       "  </thead>\n",
       "  <tbody>\n",
       "    <tr>\n",
       "      <th>1</th>\n",
       "      <td>Toy Story</td>\n",
       "      <td>Adventure|Animation|Children|Comedy|Fantasy</td>\n",
       "      <td>3</td>\n",
       "      <td>4.0</td>\n",
       "      <td>1999-12-11 13:36:47</td>\n",
       "      <td>1995</td>\n",
       "      <td>244652254</td>\n",
       "    </tr>\n",
       "    <tr>\n",
       "      <th>1</th>\n",
       "      <td>Toy Story</td>\n",
       "      <td>Adventure|Animation|Children|Comedy|Fantasy</td>\n",
       "      <td>6</td>\n",
       "      <td>5.0</td>\n",
       "      <td>1997-03-13 17:50:52</td>\n",
       "      <td>1995</td>\n",
       "      <td>244652254</td>\n",
       "    </tr>\n",
       "    <tr>\n",
       "      <th>1</th>\n",
       "      <td>Toy Story</td>\n",
       "      <td>Adventure|Animation|Children|Comedy|Fantasy</td>\n",
       "      <td>8</td>\n",
       "      <td>4.0</td>\n",
       "      <td>1996-06-05 13:37:51</td>\n",
       "      <td>1995</td>\n",
       "      <td>244652254</td>\n",
       "    </tr>\n",
       "    <tr>\n",
       "      <th>1</th>\n",
       "      <td>Toy Story</td>\n",
       "      <td>Adventure|Animation|Children|Comedy|Fantasy</td>\n",
       "      <td>10</td>\n",
       "      <td>4.0</td>\n",
       "      <td>1999-11-25 02:44:47</td>\n",
       "      <td>1995</td>\n",
       "      <td>244652254</td>\n",
       "    </tr>\n",
       "    <tr>\n",
       "      <th>1</th>\n",
       "      <td>Toy Story</td>\n",
       "      <td>Adventure|Animation|Children|Comedy|Fantasy</td>\n",
       "      <td>11</td>\n",
       "      <td>4.5</td>\n",
       "      <td>2009-01-02 01:13:41</td>\n",
       "      <td>1995</td>\n",
       "      <td>244652254</td>\n",
       "    </tr>\n",
       "  </tbody>\n",
       "</table>\n",
       "</div>"
      ],
      "text/plain": [
       "             Title                                       Genres  Userid  \\\n",
       "movieId                                                                   \n",
       "1        Toy Story  Adventure|Animation|Children|Comedy|Fantasy       3   \n",
       "1        Toy Story  Adventure|Animation|Children|Comedy|Fantasy       6   \n",
       "1        Toy Story  Adventure|Animation|Children|Comedy|Fantasy       8   \n",
       "1        Toy Story  Adventure|Animation|Children|Comedy|Fantasy      10   \n",
       "1        Toy Story  Adventure|Animation|Children|Comedy|Fantasy      11   \n",
       "\n",
       "         Rating            Timestamp  Year      Gross  \n",
       "movieId                                                \n",
       "1           4.0  1999-12-11 13:36:47  1995  244652254  \n",
       "1           5.0  1997-03-13 17:50:52  1995  244652254  \n",
       "1           4.0  1996-06-05 13:37:51  1995  244652254  \n",
       "1           4.0  1999-11-25 02:44:47  1995  244652254  \n",
       "1           4.5  2009-01-02 01:13:41  1995  244652254  "
      ]
     },
     "execution_count": 143,
     "metadata": {},
     "output_type": "execute_result"
    }
   ],
   "source": [
    "clean_df=clean_df[[\"Title\", \"genres\", \"userId\", \"rating\", \"timestamp\", \"Year\", \"Gross\"]] #Choosing column order, dropping duplicate columns\n",
    "clean_df.columns = [col.replace('_', ' ').title() for col in clean_df.columns] #Drops underscores from column names, makes Titlecase\n",
    "clean_df[\"Gross\"] = clean_df[\"Gross\"].str.replace(\"$\",\"\").str.replace(\",\",\"\") #Drops dollar signs, drops commas in Gross column\n",
    "clean_df[\"Gross\"] = pd.to_numeric(clean_df[\"Gross\"], errors=\"coerce\")#Makes Gross column type numeric for future calculations.\n",
    "\n",
    "clean_df.head()"
   ]
  },
  {
   "cell_type": "markdown",
   "id": "1b375310-e9bb-4e97-b843-f1d90b12b1d6",
   "metadata": {},
   "source": [
    "#Grouping by Title and Year to Identify Top Movies\n",
    "\n",
    "To determine the top-performing movies, we grouped the dataset by Title and Year. For each movie, we calculated:\n",
    "-Mean Rating – The average user rating for the movie.\n",
    "-Mean Gross – The average box office revenue.\n",
    "\n",
    "This allowed us to identify:\n",
    "-The 5 highest-rated movies based on average user ratings.\n",
    "-The 5 highest-grossing movies based on box office revenue.\n",
    "\n",
    "These metrics provide a clear view of which movies performed best both critically and commercially."
   ]
  },
  {
   "cell_type": "code",
   "execution_count": 144,
   "id": "9a41b69b-81b2-4934-9b6b-203c6ebb7429",
   "metadata": {},
   "outputs": [
    {
     "name": "stdout",
     "output_type": "stream",
     "text": [
      "Top 5 Movies by Rating\n"
     ]
    },
    {
     "data": {
      "text/plain": [
       "Title                     Year\n",
       "The Floating Castle       2012    5.000000\n",
       "Stand by Me Doraemon      2014    4.500000\n",
       "The Dark Knight           2008    4.500000\n",
       "Detroit                   2017    4.500000\n",
       "The Phantom of the Opera  1989    4.333333\n",
       "Name: Rating, dtype: float64"
      ]
     },
     "execution_count": 144,
     "metadata": {},
     "output_type": "execute_result"
    }
   ],
   "source": [
    "grouped_title_rating_mean = clean_df.groupby([\"Title\", \"Year\"])[\"Rating\"].mean().sort_values(ascending=False).head(5)\n",
    "print(\"Top 5 Movies by Rating\")\n",
    "grouped_title_rating_mean"
   ]
  },
  {
   "cell_type": "code",
   "execution_count": 145,
   "id": "b658f776-29dc-49ff-8931-c96f2fd2125e",
   "metadata": {},
   "outputs": [
    {
     "name": "stdout",
     "output_type": "stream",
     "text": [
      "Top 5 Movies by Gross Sales at the Box Office\n"
     ]
    },
    {
     "data": {
      "text/plain": [
       "Title                                         Year\n",
       "Avatar                                        2009    $2,743,577,587\n",
       "Titanic                                       1997    $1,843,373,318\n",
       "Harry Potter and the Deathly Hallows: Part 2  2011    $1,341,511,219\n",
       "Frozen                                        2013    $1,280,802,282\n",
       "Beauty and the Beast                          2017    $1,263,521,126\n",
       "Iron Man 3                                    2013    $1,214,811,252\n",
       "Transformers: Dark of the Moon                2011    $1,123,794,079\n",
       "Skyfall                                       2012    $1,108,561,013\n",
       "Transformers: Age of Extinction               2014    $1,104,054,072\n",
       "Joker                                         2019    $1,078,751,311\n",
       "Name: Gross, dtype: object"
      ]
     },
     "execution_count": 145,
     "metadata": {},
     "output_type": "execute_result"
    }
   ],
   "source": [
    "top5 = grouped_title_gross_mean.head(5)\n",
    "top5_formatted = top10.apply(lambda x: f\"${x:,.0f}\")  # formats as $2,742,344,000\n",
    "print(\"Top 5 highest grossing movies at the Box Office\")\n",
    "top5_formatted"
   ]
  },
  {
   "cell_type": "markdown",
   "id": "afb60e4f-60e0-4c20-a308-d64ed6e415c5",
   "metadata": {},
   "source": [
    "Separating and Exploding Genres\n",
    "\n",
    "In the original dataset, the Genres column often contained multiple genres in a single string, separated by | (e.g., Horror|Adventure|Thriller). To enable proper comparison and aggregation by genre:\n",
    "-Split the Genres – Each genre string was split into a Python list.\n",
    "-Explode the Lists – Converted the lists into separate rows, so each movie-genre combination is represented as its own row. This makes it easier to calculate metrics like average rating and total revenue per genre.\n",
    "-Group by Genre – After exploding, the dataset was grouped by genre to compute the mean of the Gross and Rating columns. This allowed for direct comparison across genres, which was visualized using a single line graph to show trends in both revenue and ratings simultaneously. This also allowed for visualizing which genres were rated higher on average and which genres brought in more at the Box Office."
   ]
  },
  {
   "cell_type": "code",
   "execution_count": 146,
   "id": "f1e447c8-8ed5-4334-9636-b0cd6d63c171",
   "metadata": {},
   "outputs": [
    {
     "data": {
      "text/html": [
       "<div>\n",
       "<style scoped>\n",
       "    .dataframe tbody tr th:only-of-type {\n",
       "        vertical-align: middle;\n",
       "    }\n",
       "\n",
       "    .dataframe tbody tr th {\n",
       "        vertical-align: top;\n",
       "    }\n",
       "\n",
       "    .dataframe thead th {\n",
       "        text-align: right;\n",
       "    }\n",
       "</style>\n",
       "<table border=\"1\" class=\"dataframe\">\n",
       "  <thead>\n",
       "    <tr style=\"text-align: right;\">\n",
       "      <th></th>\n",
       "      <th>Title</th>\n",
       "      <th>Genres</th>\n",
       "      <th>Userid</th>\n",
       "      <th>Rating</th>\n",
       "      <th>Timestamp</th>\n",
       "      <th>Year</th>\n",
       "      <th>Gross</th>\n",
       "    </tr>\n",
       "    <tr>\n",
       "      <th>movieId</th>\n",
       "      <th></th>\n",
       "      <th></th>\n",
       "      <th></th>\n",
       "      <th></th>\n",
       "      <th></th>\n",
       "      <th></th>\n",
       "      <th></th>\n",
       "    </tr>\n",
       "  </thead>\n",
       "  <tbody>\n",
       "    <tr>\n",
       "      <th>288</th>\n",
       "      <td>Natural Born Killers</td>\n",
       "      <td>Action</td>\n",
       "      <td>28711</td>\n",
       "      <td>1.0</td>\n",
       "      <td>1996-08-29 13:44:59</td>\n",
       "      <td>1994</td>\n",
       "      <td>50283942</td>\n",
       "    </tr>\n",
       "    <tr>\n",
       "      <th>555</th>\n",
       "      <td>True Romance</td>\n",
       "      <td>Crime</td>\n",
       "      <td>125091</td>\n",
       "      <td>3.0</td>\n",
       "      <td>2002-06-17 19:47:48</td>\n",
       "      <td>1993</td>\n",
       "      <td>13088778</td>\n",
       "    </tr>\n",
       "    <tr>\n",
       "      <th>2389</th>\n",
       "      <td>Psycho</td>\n",
       "      <td>Crime</td>\n",
       "      <td>48909</td>\n",
       "      <td>3.0</td>\n",
       "      <td>2015-02-19 04:22:39</td>\n",
       "      <td>1998</td>\n",
       "      <td>37170655</td>\n",
       "    </tr>\n",
       "    <tr>\n",
       "      <th>3555</th>\n",
       "      <td>U-571</td>\n",
       "      <td>War</td>\n",
       "      <td>51005</td>\n",
       "      <td>3.0</td>\n",
       "      <td>2001-06-16 19:26:35</td>\n",
       "      <td>2000</td>\n",
       "      <td>127666415</td>\n",
       "    </tr>\n",
       "    <tr>\n",
       "      <th>1411</th>\n",
       "      <td>Hamlet</td>\n",
       "      <td>Drama</td>\n",
       "      <td>117152</td>\n",
       "      <td>5.0</td>\n",
       "      <td>1997-01-23 17:34:55</td>\n",
       "      <td>1996</td>\n",
       "      <td>4739189</td>\n",
       "    </tr>\n",
       "  </tbody>\n",
       "</table>\n",
       "</div>"
      ],
      "text/plain": [
       "                        Title  Genres  Userid  Rating            Timestamp  \\\n",
       "movieId                                                                      \n",
       "288      Natural Born Killers  Action   28711     1.0  1996-08-29 13:44:59   \n",
       "555              True Romance   Crime  125091     3.0  2002-06-17 19:47:48   \n",
       "2389                   Psycho   Crime   48909     3.0  2015-02-19 04:22:39   \n",
       "3555                    U-571     War   51005     3.0  2001-06-16 19:26:35   \n",
       "1411                   Hamlet   Drama  117152     5.0  1997-01-23 17:34:55   \n",
       "\n",
       "         Year      Gross  \n",
       "movieId                   \n",
       "288      1994   50283942  \n",
       "555      1993   13088778  \n",
       "2389     1998   37170655  \n",
       "3555     2000  127666415  \n",
       "1411     1996    4739189  "
      ]
     },
     "execution_count": 146,
     "metadata": {},
     "output_type": "execute_result"
    }
   ],
   "source": [
    "clean_df['Genres'] = clean_df['Genres'].str.split('|')\n",
    "df_exploded = clean_df.explode('Genres')\n",
    "df_exploded.sample(5)"
   ]
  },
  {
   "cell_type": "code",
   "execution_count": 147,
   "id": "9205ea79-6c18-4d47-8c93-fe5ccdb75dd8",
   "metadata": {},
   "outputs": [],
   "source": [
    "genre_box_results = df_exploded.groupby(\"Genres\")[\"Gross\"].mean().sort_values(ascending=False)\n",
    "genre_rating_results = df_exploded.groupby(\"Genres\")[\"Rating\"].mean().sort_values(ascending=False)"
   ]
  },
  {
   "cell_type": "code",
   "execution_count": 148,
   "id": "ba0c5f9e-9a49-454a-950d-ceaad9d8c643",
   "metadata": {},
   "outputs": [
    {
     "data": {
      "image/png": "[encoded data removed]",
      "text/plain": [
       "<Figure size 1200x600 with 2 Axes>"
      ]
     },
     "metadata": {},
     "output_type": "display_data"
    }
   ],
   "source": [
    "genre_compare = genre_rating_results.to_frame(\"Rating\").join(\n",
    "    genre_box_results.to_frame(\"Gross\")\n",
    ")\n",
    "\n",
    "fig, ax1 = plt.subplots(figsize=(12,6))\n",
    "ax1.plot(genre_compare.index, genre_compare[\"Rating\"], color='blue', marker='o', label='Average Rating')\n",
    "ax1.set_ylabel('Average Rating', color='blue')\n",
    "ax1.tick_params(axis='y', labelcolor='blue')\n",
    "plt.xticks(rotation=45, ha='right')\n",
    "\n",
    "ax2 = ax1.twinx()\n",
    "ax2.plot(genre_compare.index, genre_compare[\"Gross\"], color='green', marker='x', label='Average Gross')\n",
    "ax2.set_ylabel('Average Gross', color='green')\n",
    "ax2.tick_params(axis='y', labelcolor='green')\n",
    "\n",
    "fig.suptitle(\"Average Rating vs Average Gross by Genre\")\n",
    "fig.tight_layout()\n",
    "plt.show()\n"
   ]
  },
  {
   "cell_type": "markdown",
   "id": "61345c59-b4fb-468f-a0eb-5873343f3615",
   "metadata": {},
   "source": [
    "#Correlation Between Average Rating and Box Office Gross\n",
    "\n",
    "To investigate whether higher-rated movies tend to earn more at the box office:\n",
    "1. Grouped by Title – Aggregated the dataset by movie title to calculate:\n",
    "        -Average Rating – the mean of all user ratings for each movie.\n",
    "        -Total Gross – the sum of box office sales for each movie.\n",
    "2. Correlation Analysis – Calculated the correlation coefficient between average rating and total gross to quantify the relationship.\n",
    "3. Visualization – Created a scatter plot with average rating on the x-axis and total gross on the y-axis to visually inspect patterns and outliers.\n",
    "\n",
    "This analysis helps determine whether there’s a meaningful relationship between how well a movie is rated and its box office performance."
   ]
  },
  {
   "cell_type": "code",
   "execution_count": 149,
   "id": "003d0348-beb3-487c-af99-70cdc33ba4e3",
   "metadata": {},
   "outputs": [
    {
     "name": "stdout",
     "output_type": "stream",
     "text": [
      "Correlation between rating and gross: 0.15038815394344726\n"
     ]
    },
    {
     "data": {
      "image/png": "[encoded data removed]",
      "text/plain": [
       "<Figure size 640x480 with 1 Axes>"
      ]
     },
     "metadata": {},
     "output_type": "display_data"
    }
   ],
   "source": [
    "movie_metrics = clean_df.groupby(\"Title\").agg({\"Rating\": \"mean\", \"Gross\": \"sum\"})\n",
    "corr_value = movie_metrics[\"Rating\"].corr(movie_metrics[\"Gross\"])\n",
    "print(\"Correlation between rating and gross:\", corr_value)\n",
    "\n",
    "plt.scatter(movie_metrics[\"Rating\"], movie_metrics[\"Gross\"])\n",
    "plt.xlabel(\"Average Rating\")\n",
    "plt.ylabel(\"Total Gross\")\n",
    "plt.title(\"Movie Rating vs Box Office Gross\")\n",
    "plt.show()"
   ]
  },
  {
   "cell_type": "code",
   "execution_count": 150,
   "id": "e6a0866a-db47-4f2c-b880-103b0702962f",
   "metadata": {},
   "outputs": [
    {
     "data": {
      "text/html": [
       "<div>\n",
       "<style scoped>\n",
       "    .dataframe tbody tr th:only-of-type {\n",
       "        vertical-align: middle;\n",
       "    }\n",
       "\n",
       "    .dataframe tbody tr th {\n",
       "        vertical-align: top;\n",
       "    }\n",
       "\n",
       "    .dataframe thead th {\n",
       "        text-align: right;\n",
       "    }\n",
       "</style>\n",
       "<table border=\"1\" class=\"dataframe\">\n",
       "  <thead>\n",
       "    <tr style=\"text-align: right;\">\n",
       "      <th></th>\n",
       "      <th>Gross</th>\n",
       "      <th>Rating</th>\n",
       "    </tr>\n",
       "  </thead>\n",
       "  <tbody>\n",
       "    <tr>\n",
       "      <th>Gross</th>\n",
       "      <td>1.000000</td>\n",
       "      <td>0.150388</td>\n",
       "    </tr>\n",
       "    <tr>\n",
       "      <th>Rating</th>\n",
       "      <td>0.150388</td>\n",
       "      <td>1.000000</td>\n",
       "    </tr>\n",
       "  </tbody>\n",
       "</table>\n",
       "</div>"
      ],
      "text/plain": [
       "           Gross    Rating\n",
       "Gross   1.000000  0.150388\n",
       "Rating  0.150388  1.000000"
      ]
     },
     "execution_count": 150,
     "metadata": {},
     "output_type": "execute_result"
    }
   ],
   "source": [
    "movie_metrics[[\"Gross\", \"Rating\"]].corr()"
   ]
  },
  {
   "cell_type": "markdown",
   "id": "b50b1d45-0883-4c7b-ba04-e46674602022",
   "metadata": {},
   "source": [
    "#Findings\n",
    "\n",
    "-The correlation coefficient between average rating and total gross is 0.15038815394344726.\n",
    "-Movies with higher ratings do not necessarily make more money—some highly rated films earn less than average, while some moderately rated movies gross significantly.\n",
    "-Outliers are visible on the scatter plot and highlight interesting cases for further exploration."
   ]
  },
  {
   "cell_type": "markdown",
   "id": "18b37b97-1a7e-4dad-92d8-b28dfc8516c1",
   "metadata": {},
   "source": [
    "#Analyzing Ratings Over Time\n",
    "\n",
    "-Converted the Timestamp column into datetime objects to enable time-based analysis.\n",
    "-Created a new Year column extracted from the timestamp.\n",
    "-Grouped the dataset by Title and Year to calculate the average rating for each movie per year.\n",
    "-Filtered the results to view how ratings for a specific movie (e.g., \"Napoleon Dynamite\") changed over time.\n",
    "\n",
    "Example: Ratings Over Time for a Single Movie\n",
    "\n",
    "To demonstrate how the dataset can be filtered and analyzed over time, I selected a single movie (e.g., \"Star Wars\") to see how its average ratings changed year by year. This highlights the ability to:\n",
    "\n",
    "-Filter by movie title\n",
    "-Group by year\n",
    "-Calculate time-based metrics"
   ]
  },
  {
   "cell_type": "code",
   "execution_count": 151,
   "id": "ad131ec7-651a-4e6b-a22b-77fc97033c0c",
   "metadata": {},
   "outputs": [],
   "source": [
    "clean_df[\"Timestamp\"] = pd.to_datetime(clean_df[\"Timestamp\"], errors=\"coerce\")\n",
    "clean_df[\"Year\"] = clean_df[\"Timestamp\"].dt.year \n",
    "ratings_over_time = clean_df.groupby([\"Title\", \"Year\"])[\"Rating\"].mean().reset_index()"
   ]
  },
  {
   "cell_type": "code",
   "execution_count": 152,
   "id": "576e36ea-7145-4427-abd1-672abf21a2e9",
   "metadata": {},
   "outputs": [
    {
     "data": {
      "text/html": [
       "<div>\n",
       "<style scoped>\n",
       "    .dataframe tbody tr th:only-of-type {\n",
       "        vertical-align: middle;\n",
       "    }\n",
       "\n",
       "    .dataframe tbody tr th {\n",
       "        vertical-align: top;\n",
       "    }\n",
       "\n",
       "    .dataframe thead th {\n",
       "        text-align: right;\n",
       "    }\n",
       "</style>\n",
       "<table border=\"1\" class=\"dataframe\">\n",
       "  <thead>\n",
       "    <tr style=\"text-align: right;\">\n",
       "      <th></th>\n",
       "      <th>Title</th>\n",
       "      <th>Year</th>\n",
       "      <th>Rating</th>\n",
       "    </tr>\n",
       "  </thead>\n",
       "  <tbody>\n",
       "    <tr>\n",
       "      <th>30650</th>\n",
       "      <td>Napoleon Dynamite</td>\n",
       "      <td>2004</td>\n",
       "      <td>3.660656</td>\n",
       "    </tr>\n",
       "    <tr>\n",
       "      <th>30651</th>\n",
       "      <td>Napoleon Dynamite</td>\n",
       "      <td>2005</td>\n",
       "      <td>3.551688</td>\n",
       "    </tr>\n",
       "    <tr>\n",
       "      <th>30652</th>\n",
       "      <td>Napoleon Dynamite</td>\n",
       "      <td>2006</td>\n",
       "      <td>3.439979</td>\n",
       "    </tr>\n",
       "    <tr>\n",
       "      <th>30653</th>\n",
       "      <td>Napoleon Dynamite</td>\n",
       "      <td>2007</td>\n",
       "      <td>3.322222</td>\n",
       "    </tr>\n",
       "    <tr>\n",
       "      <th>30654</th>\n",
       "      <td>Napoleon Dynamite</td>\n",
       "      <td>2008</td>\n",
       "      <td>3.298212</td>\n",
       "    </tr>\n",
       "    <tr>\n",
       "      <th>30655</th>\n",
       "      <td>Napoleon Dynamite</td>\n",
       "      <td>2009</td>\n",
       "      <td>3.336414</td>\n",
       "    </tr>\n",
       "    <tr>\n",
       "      <th>30656</th>\n",
       "      <td>Napoleon Dynamite</td>\n",
       "      <td>2010</td>\n",
       "      <td>3.215139</td>\n",
       "    </tr>\n",
       "    <tr>\n",
       "      <th>30657</th>\n",
       "      <td>Napoleon Dynamite</td>\n",
       "      <td>2011</td>\n",
       "      <td>3.198895</td>\n",
       "    </tr>\n",
       "    <tr>\n",
       "      <th>30658</th>\n",
       "      <td>Napoleon Dynamite</td>\n",
       "      <td>2012</td>\n",
       "      <td>3.230126</td>\n",
       "    </tr>\n",
       "    <tr>\n",
       "      <th>30659</th>\n",
       "      <td>Napoleon Dynamite</td>\n",
       "      <td>2013</td>\n",
       "      <td>3.261538</td>\n",
       "    </tr>\n",
       "    <tr>\n",
       "      <th>30660</th>\n",
       "      <td>Napoleon Dynamite</td>\n",
       "      <td>2014</td>\n",
       "      <td>3.334061</td>\n",
       "    </tr>\n",
       "    <tr>\n",
       "      <th>30661</th>\n",
       "      <td>Napoleon Dynamite</td>\n",
       "      <td>2015</td>\n",
       "      <td>3.328488</td>\n",
       "    </tr>\n",
       "  </tbody>\n",
       "</table>\n",
       "</div>"
      ],
      "text/plain": [
       "                   Title  Year    Rating\n",
       "30650  Napoleon Dynamite  2004  3.660656\n",
       "30651  Napoleon Dynamite  2005  3.551688\n",
       "30652  Napoleon Dynamite  2006  3.439979\n",
       "30653  Napoleon Dynamite  2007  3.322222\n",
       "30654  Napoleon Dynamite  2008  3.298212\n",
       "30655  Napoleon Dynamite  2009  3.336414\n",
       "30656  Napoleon Dynamite  2010  3.215139\n",
       "30657  Napoleon Dynamite  2011  3.198895\n",
       "30658  Napoleon Dynamite  2012  3.230126\n",
       "30659  Napoleon Dynamite  2013  3.261538\n",
       "30660  Napoleon Dynamite  2014  3.334061\n",
       "30661  Napoleon Dynamite  2015  3.328488"
      ]
     },
     "execution_count": 152,
     "metadata": {},
     "output_type": "execute_result"
    }
   ],
   "source": [
    "#Easily view the ratings for a specific movie and how they may have changed over time.\n",
    "movie_ratings = ratings_over_time[ratings_over_time[\"Title\"].str.contains(\"Dynamite\")] #Insert Any Movie Title\n",
    "movie_ratings.head(15)"
   ]
  },
  {
   "cell_type": "markdown",
   "id": "4724e842-639c-4abd-b034-459f5aa36f13",
   "metadata": {},
   "source": [
    "#Identifying Outlier Movies\n",
    "To highlight interesting anomalies in the dataset, I looked for movies that were statistical outliers in terms of ratings and box office gross. Specifically:\n",
    "\n",
    "1.High Gross but Low Rating – Movies that earned a lot at the box office but received unusually low average ratings.\n",
    "2.Low Gross but High Rating – Movies that earned relatively little but received unusually high ratings.\n",
    "\n",
    "To determine these outliers:\n",
    "-I calculated the 5th and 95th percentiles for both Gross and Rating.\n",
    "-Movies beyond these thresholds were flagged as outliers.\n",
    "-This method identifies extremes while ignoring the majority of “typical” movies.\n",
    "\n",
    "This approach provides insight into which films were over- or under-appreciated relative to their financial success."
   ]
  },
  {
   "cell_type": "code",
   "execution_count": 153,
   "id": "d0e7c63e-50a9-45b2-9503-bc3a7fb37691",
   "metadata": {},
   "outputs": [],
   "source": [
    "movie_summary = clean_df.groupby(\"Title\").agg({\"Rating\": \"mean\", \"Gross\": \"max\"}).reset_index()\n",
    "\n",
    "# Sets thresholds at the 3rd and 97th percentiles to identify outliers in Gross and Rating\n",
    "gross_high = movie_summary['Gross'].quantile(0.95)\n",
    "gross_low  = movie_summary['Gross'].quantile(0.05)\n",
    "rating_high = movie_summary['Rating'].quantile(0.95)\n",
    "rating_low  = movie_summary['Rating'].quantile(0.05)"
   ]
  },
  {
   "cell_type": "code",
   "execution_count": 154,
   "id": "5b949f08-5dbc-4d17-92c4-e6c963a73939",
   "metadata": {},
   "outputs": [
    {
     "name": "stdout",
     "output_type": "stream",
     "text": [
      "High gross but low rating:\n",
      "                                     Title    Rating      Gross\n",
      "150   Alvin and the Chipmunks: Chipwrecked  2.053030  342695435\n",
      "1201                  Fifty Shades of Grey  1.807292  569651467\n"
     ]
    }
   ],
   "source": [
    "# Identifies movies that are statistical outliers:\n",
    "high_gross_low_rating = movie_summary[(movie_summary['Gross'] >= gross_high) & (movie_summary['Rating'] <= rating_low)]\n",
    "low_gross_high_rating = movie_summary[(movie_summary['Gross'] <= gross_low) & (movie_summary['Rating'] >= rating_high)]\n",
    "\n",
    "print(\"High gross but low rating:\")\n",
    "print(high_gross_low_rating)"
   ]
  },
  {
   "cell_type": "code",
   "execution_count": 155,
   "id": "e4de66e3-cd01-41b6-8da7-14a0f9b9d037",
   "metadata": {},
   "outputs": [
    {
     "name": "stdout",
     "output_type": "stream",
     "text": [
      "\n",
      "Low gross but high rating:\n",
      "                             Title    Rating    Gross\n",
      "45                           35 Up  3.995522   922872\n",
      "115                          Akira  3.862806   830239\n",
      "203          Anne Frank Remembered  3.937302  1310200\n",
      "309                         Baraka  4.051042  1256698\n",
      "549               Brother's Keeper  3.904570  1305915\n",
      "780                       Crackers  4.000000   129268\n",
      "1002                   Down by Law  4.030624  1435668\n",
      "1179  Fast, Cheap & Out of Control  3.875764   878960\n",
      "1260               For All Mankind  3.972656   770132\n",
      "1522                 Heavy Petting  4.000000   272371\n",
      "2724                       Ponette  3.864583  1300377\n",
      "3363          Swimming to Cambodia  3.952261  1092911\n",
      "3747                         Water  3.860681  1256862\n"
     ]
    }
   ],
   "source": [
    "print(\"\\nLow gross but high rating:\")\n",
    "print(low_gross_high_rating)"
   ]
  },
  {
   "cell_type": "code",
   "execution_count": 156,
   "id": "be220a64-16eb-4648-99fc-65f891a8df81",
   "metadata": {},
   "outputs": [
    {
     "name": "stdout",
     "output_type": "stream",
     "text": [
      "Top 15 biggest outliers\n"
     ]
    },
    {
     "data": {
      "text/html": [
       "<div>\n",
       "<style scoped>\n",
       "    .dataframe tbody tr th:only-of-type {\n",
       "        vertical-align: middle;\n",
       "    }\n",
       "\n",
       "    .dataframe tbody tr th {\n",
       "        vertical-align: top;\n",
       "    }\n",
       "\n",
       "    .dataframe thead th {\n",
       "        text-align: right;\n",
       "    }\n",
       "</style>\n",
       "<table border=\"1\" class=\"dataframe\">\n",
       "  <thead>\n",
       "    <tr style=\"text-align: right;\">\n",
       "      <th></th>\n",
       "      <th>Title</th>\n",
       "      <th>Rating</th>\n",
       "      <th>Gross</th>\n",
       "    </tr>\n",
       "  </thead>\n",
       "  <tbody>\n",
       "    <tr>\n",
       "      <th>150</th>\n",
       "      <td>Alvin and the Chipmunks: Chipwrecked</td>\n",
       "      <td>2.053030</td>\n",
       "      <td>342695435</td>\n",
       "    </tr>\n",
       "    <tr>\n",
       "      <th>1201</th>\n",
       "      <td>Fifty Shades of Grey</td>\n",
       "      <td>1.807292</td>\n",
       "      <td>569651467</td>\n",
       "    </tr>\n",
       "    <tr>\n",
       "      <th>45</th>\n",
       "      <td>35 Up</td>\n",
       "      <td>3.995522</td>\n",
       "      <td>922872</td>\n",
       "    </tr>\n",
       "    <tr>\n",
       "      <th>115</th>\n",
       "      <td>Akira</td>\n",
       "      <td>3.862806</td>\n",
       "      <td>830239</td>\n",
       "    </tr>\n",
       "    <tr>\n",
       "      <th>203</th>\n",
       "      <td>Anne Frank Remembered</td>\n",
       "      <td>3.937302</td>\n",
       "      <td>1310200</td>\n",
       "    </tr>\n",
       "    <tr>\n",
       "      <th>309</th>\n",
       "      <td>Baraka</td>\n",
       "      <td>4.051042</td>\n",
       "      <td>1256698</td>\n",
       "    </tr>\n",
       "    <tr>\n",
       "      <th>549</th>\n",
       "      <td>Brother's Keeper</td>\n",
       "      <td>3.904570</td>\n",
       "      <td>1305915</td>\n",
       "    </tr>\n",
       "    <tr>\n",
       "      <th>780</th>\n",
       "      <td>Crackers</td>\n",
       "      <td>4.000000</td>\n",
       "      <td>129268</td>\n",
       "    </tr>\n",
       "    <tr>\n",
       "      <th>1002</th>\n",
       "      <td>Down by Law</td>\n",
       "      <td>4.030624</td>\n",
       "      <td>1435668</td>\n",
       "    </tr>\n",
       "    <tr>\n",
       "      <th>1179</th>\n",
       "      <td>Fast, Cheap &amp; Out of Control</td>\n",
       "      <td>3.875764</td>\n",
       "      <td>878960</td>\n",
       "    </tr>\n",
       "    <tr>\n",
       "      <th>1260</th>\n",
       "      <td>For All Mankind</td>\n",
       "      <td>3.972656</td>\n",
       "      <td>770132</td>\n",
       "    </tr>\n",
       "    <tr>\n",
       "      <th>1522</th>\n",
       "      <td>Heavy Petting</td>\n",
       "      <td>4.000000</td>\n",
       "      <td>272371</td>\n",
       "    </tr>\n",
       "    <tr>\n",
       "      <th>2724</th>\n",
       "      <td>Ponette</td>\n",
       "      <td>3.864583</td>\n",
       "      <td>1300377</td>\n",
       "    </tr>\n",
       "    <tr>\n",
       "      <th>3363</th>\n",
       "      <td>Swimming to Cambodia</td>\n",
       "      <td>3.952261</td>\n",
       "      <td>1092911</td>\n",
       "    </tr>\n",
       "    <tr>\n",
       "      <th>3747</th>\n",
       "      <td>Water</td>\n",
       "      <td>3.860681</td>\n",
       "      <td>1256862</td>\n",
       "    </tr>\n",
       "  </tbody>\n",
       "</table>\n",
       "</div>"
      ],
      "text/plain": [
       "                                     Title    Rating      Gross\n",
       "150   Alvin and the Chipmunks: Chipwrecked  2.053030  342695435\n",
       "1201                  Fifty Shades of Grey  1.807292  569651467\n",
       "45                                   35 Up  3.995522     922872\n",
       "115                                  Akira  3.862806     830239\n",
       "203                  Anne Frank Remembered  3.937302    1310200\n",
       "309                                 Baraka  4.051042    1256698\n",
       "549                       Brother's Keeper  3.904570    1305915\n",
       "780                               Crackers  4.000000     129268\n",
       "1002                           Down by Law  4.030624    1435668\n",
       "1179          Fast, Cheap & Out of Control  3.875764     878960\n",
       "1260                       For All Mankind  3.972656     770132\n",
       "1522                         Heavy Petting  4.000000     272371\n",
       "2724                               Ponette  3.864583    1300377\n",
       "3363                  Swimming to Cambodia  3.952261    1092911\n",
       "3747                                 Water  3.860681    1256862"
      ]
     },
     "execution_count": 156,
     "metadata": {},
     "output_type": "execute_result"
    }
   ],
   "source": [
    "outliers = pd.concat([high_gross_low_rating, low_gross_high_rating])\n",
    "outliers.sort_values(by=\"Rating\", ascending=False)\n",
    "print(\"Top 15 biggest outliers\")\n",
    "outliers"
   ]
  },
  {
   "cell_type": "markdown",
   "id": "4e794458-a152-4fc1-84b2-bb5d490cb62f",
   "metadata": {},
   "source": [
    "#Summary of Findings\n",
    "\n",
    "After analyzing the movies and box office dataset, several key insights emerged:\n",
    "\n",
    "##Top Movies by Rating:\n",
    "The highest-rated movies include The Floating Castle, Stand by Me Doraemon, The Dark Knight, Detroit, and The Phantom of the Opera. These films consistently received strong ratings from viewers, indicating broad audience appreciation.\n",
    "\n",
    "##Top Grossing Movies:\n",
    "In terms of revenue, Avatar, Titanic, Harry Potter and the Deathly Hallows: Part 2, Frozen, and Beauty and the Beast were the most successful at the box office. High grossing films tend to attract large audiences, often through franchise popularity or broad appeal.\n",
    "\n",
    "##Genres Performance:\n",
    "When examining genres, IMAX, Animation, Musical, Children, and Adventure had the highest total revenue, highlighting the commercial strength of family-friendly and visually spectacular films. In contrast, the genres with the highest average ratings were Film Noir, Documentaries, War, IMAX, and Drama, showing that critical acclaim does not always align with box office success.\n",
    "\n",
    "#Correlation Between Ratings and Gross:\n",
    "The correlation between average movie rating and box office revenue is 0.14, suggesting only a very weak positive relationship. In other words, higher ratings slightly relate to higher gross, but other factors like marketing, franchise, or release timing likely play a larger role in revenue.\n",
    "\n",
    "#Outliers:\n",
    "Several movies stand out as outliers in revenue versus ratings, either earning high gross with low ratings or low gross with high ratings. Notable examples include Alvin and the Chipmunks: Chipwrecked, Fifty Shades of Grey, Akira, Anne Frank Remembered, and Swimming to Cambodia. These films illustrate how popularity and critical reception do not always align."
   ]
  },
  {
   "cell_type": "markdown",
   "id": "710b5c2f-aef7-4eb7-b51d-39f1685a3ce7",
   "metadata": {},
   "source": [
    "## Conclusion\n",
    "\n",
    "This project successfully merged and cleaned multiple movie datasets, creating a unified dataset ready for analysis. The workflow demonstrates careful data cleaning, merging strategies, and attention to detail—key skills in data wrangling and analysis.\n"
   ]
  },
  {
   "cell_type": "code",
   "execution_count": null,
   "id": "48c080a4-4831-48ee-aa98-c9f3e641232b",
   "metadata": {},
   "outputs": [],
   "source": []
  }
 ],
 "metadata": {
  "kernelspec": {
   "display_name": "Python 3 (ipykernel)",
   "language": "python",
   "name": "python3"
  },
  "language_info": {
   "codemirror_mode": {
    "name": "ipython",
    "version": 3
   },
   "file_extension": ".py",
   "mimetype": "text/x-python",
   "name": "python",
   "nbconvert_exporter": "python",
   "pygments_lexer": "ipython3",
   "version": "3.13.5"
  }
 },
 "nbformat": 4,
 "nbformat_minor": 5
}
