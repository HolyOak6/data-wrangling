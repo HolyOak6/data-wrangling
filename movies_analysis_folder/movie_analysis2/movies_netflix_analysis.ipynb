{
 "cells": [
  {
   "cell_type": "markdown",
   "id": "02d5a1da-25e8-4d24-b7cc-cc959102c502",
   "metadata": {},
   "source": [
    "####Netflix Movie Ratings Analysis\n",
    "\n",
    "##This project analyzes Netflix movie and user rating data to uncover trends and patterns. It identifies top-rated movies, the most generous and active users, and rating trends by release decade. Key metrics like average ratings, number of ratings, and rating variability were calculated and visualized using bar charts and histograms. The analysis demonstrates data wrangling, aggregation, filtering, and visualization skills with pandas, matplotlib, and seaborn."
   ]
  },
  {
   "cell_type": "markdown",
   "id": "a0fb64ab-43f0-44d4-82d1-ec58aa167d18",
   "metadata": {},
   "source": [
    "Import and Acquire dataframes"
   ]
  },
  {
   "cell_type": "code",
   "execution_count": 20,
   "id": "20217a59-55b9-45d5-b463-036d99b2bf8d",
   "metadata": {},
   "outputs": [
    {
     "data": {
      "text/html": [
       "<div>\n",
       "<style scoped>\n",
       "    .dataframe tbody tr th:only-of-type {\n",
       "        vertical-align: middle;\n",
       "    }\n",
       "\n",
       "    .dataframe tbody tr th {\n",
       "        vertical-align: top;\n",
       "    }\n",
       "\n",
       "    .dataframe thead th {\n",
       "        text-align: right;\n",
       "    }\n",
       "</style>\n",
       "<table border=\"1\" class=\"dataframe\">\n",
       "  <thead>\n",
       "    <tr style=\"text-align: right;\">\n",
       "      <th></th>\n",
       "      <th>User_ID</th>\n",
       "      <th>Rating</th>\n",
       "      <th>Movie_ID</th>\n",
       "    </tr>\n",
       "  </thead>\n",
       "  <tbody>\n",
       "    <tr>\n",
       "      <th>17337453</th>\n",
       "      <td>520675</td>\n",
       "      <td>3</td>\n",
       "      <td>4496</td>\n",
       "    </tr>\n",
       "    <tr>\n",
       "      <th>17337454</th>\n",
       "      <td>1055714</td>\n",
       "      <td>5</td>\n",
       "      <td>4496</td>\n",
       "    </tr>\n",
       "    <tr>\n",
       "      <th>17337455</th>\n",
       "      <td>2643029</td>\n",
       "      <td>4</td>\n",
       "      <td>4496</td>\n",
       "    </tr>\n",
       "    <tr>\n",
       "      <th>17337456</th>\n",
       "      <td>1559566</td>\n",
       "      <td>3</td>\n",
       "      <td>4496</td>\n",
       "    </tr>\n",
       "    <tr>\n",
       "      <th>17337457</th>\n",
       "      <td>293198</td>\n",
       "      <td>3</td>\n",
       "      <td>4496</td>\n",
       "    </tr>\n",
       "  </tbody>\n",
       "</table>\n",
       "</div>"
      ],
      "text/plain": [
       "          User_ID  Rating  Movie_ID\n",
       "17337453   520675       3      4496\n",
       "17337454  1055714       5      4496\n",
       "17337455  2643029       4      4496\n",
       "17337456  1559566       3      4496\n",
       "17337457   293198       3      4496"
      ]
     },
     "execution_count": 20,
     "metadata": {},
     "output_type": "execute_result"
    }
   ],
   "source": [
    "import pandas as pd\n",
    "import seaborn as sns\n",
    "import matplotlib.pyplot as plt\n",
    "Movies_df = pd.read_csv(\"C:/Users/Ricki/.cache/kagglehub/datasets/rishitjavia/netflix-movie-rating-dataset/versions/1/Netflix_Dataset_Movie.csv\")\n",
    "Ratings_df = pd.read_csv(\"C:/Users/Ricki/.cache/kagglehub/datasets/rishitjavia/netflix-movie-rating-dataset/versions/1/Netflix_Dataset_Rating.csv\")\n",
    "Ratings_df.tail()"
   ]
  },
  {
   "cell_type": "code",
   "execution_count": 21,
   "id": "289de319-b6a9-4992-9390-2217f93145b0",
   "metadata": {},
   "outputs": [
    {
     "data": {
      "text/html": [
       "<div>\n",
       "<style scoped>\n",
       "    .dataframe tbody tr th:only-of-type {\n",
       "        vertical-align: middle;\n",
       "    }\n",
       "\n",
       "    .dataframe tbody tr th {\n",
       "        vertical-align: top;\n",
       "    }\n",
       "\n",
       "    .dataframe thead th {\n",
       "        text-align: right;\n",
       "    }\n",
       "</style>\n",
       "<table border=\"1\" class=\"dataframe\">\n",
       "  <thead>\n",
       "    <tr style=\"text-align: right;\">\n",
       "      <th></th>\n",
       "      <th>Movie_ID</th>\n",
       "      <th>Year</th>\n",
       "      <th>Name</th>\n",
       "    </tr>\n",
       "  </thead>\n",
       "  <tbody>\n",
       "    <tr>\n",
       "      <th>0</th>\n",
       "      <td>1</td>\n",
       "      <td>2003</td>\n",
       "      <td>Dinosaur Planet</td>\n",
       "    </tr>\n",
       "    <tr>\n",
       "      <th>1</th>\n",
       "      <td>2</td>\n",
       "      <td>2004</td>\n",
       "      <td>Isle of Man TT 2004 Review</td>\n",
       "    </tr>\n",
       "    <tr>\n",
       "      <th>2</th>\n",
       "      <td>3</td>\n",
       "      <td>1997</td>\n",
       "      <td>Character</td>\n",
       "    </tr>\n",
       "    <tr>\n",
       "      <th>3</th>\n",
       "      <td>4</td>\n",
       "      <td>1994</td>\n",
       "      <td>Paula Abdul's Get Up &amp; Dance</td>\n",
       "    </tr>\n",
       "    <tr>\n",
       "      <th>4</th>\n",
       "      <td>5</td>\n",
       "      <td>2004</td>\n",
       "      <td>The Rise and Fall of ECW</td>\n",
       "    </tr>\n",
       "  </tbody>\n",
       "</table>\n",
       "</div>"
      ],
      "text/plain": [
       "   Movie_ID  Year                          Name\n",
       "0         1  2003               Dinosaur Planet\n",
       "1         2  2004    Isle of Man TT 2004 Review\n",
       "2         3  1997                     Character\n",
       "3         4  1994  Paula Abdul's Get Up & Dance\n",
       "4         5  2004      The Rise and Fall of ECW"
      ]
     },
     "execution_count": 21,
     "metadata": {},
     "output_type": "execute_result"
    }
   ],
   "source": [
    "Movies_df.head()"
   ]
  },
  {
   "cell_type": "markdown",
   "id": "dc96c65c-73b0-4c46-bd01-67f1d16509eb",
   "metadata": {},
   "source": [
    "Merged on Movie_ID to align matching records from both datasets\n",
    "Inner merge to remove any movies without ratings for clean and accurate analysis"
   ]
  },
  {
   "cell_type": "code",
   "execution_count": 22,
   "id": "fe6fd97c-9509-4cf3-bf83-8c786d3f45a6",
   "metadata": {},
   "outputs": [],
   "source": [
    "dfs = Movies_df.merge(Ratings_df, on=\"Movie_ID\", how=\"inner\").set_index(\"Movie_ID\")"
   ]
  },
  {
   "cell_type": "code",
   "execution_count": 23,
   "id": "da3988f9-b43e-44b5-b32a-7b9556c938a2",
   "metadata": {},
   "outputs": [
    {
     "data": {
      "text/html": [
       "<div>\n",
       "<style scoped>\n",
       "    .dataframe tbody tr th:only-of-type {\n",
       "        vertical-align: middle;\n",
       "    }\n",
       "\n",
       "    .dataframe tbody tr th {\n",
       "        vertical-align: top;\n",
       "    }\n",
       "\n",
       "    .dataframe thead th {\n",
       "        text-align: right;\n",
       "    }\n",
       "</style>\n",
       "<table border=\"1\" class=\"dataframe\">\n",
       "  <thead>\n",
       "    <tr style=\"text-align: right;\">\n",
       "      <th></th>\n",
       "      <th>Year</th>\n",
       "      <th>Name</th>\n",
       "      <th>User_ID</th>\n",
       "      <th>Rating</th>\n",
       "    </tr>\n",
       "    <tr>\n",
       "      <th>Movie_ID</th>\n",
       "      <th></th>\n",
       "      <th></th>\n",
       "      <th></th>\n",
       "      <th></th>\n",
       "    </tr>\n",
       "  </thead>\n",
       "  <tbody>\n",
       "    <tr>\n",
       "      <th>4496</th>\n",
       "      <td>1993</td>\n",
       "      <td>Farewell My Concubine</td>\n",
       "      <td>520675</td>\n",
       "      <td>3</td>\n",
       "    </tr>\n",
       "    <tr>\n",
       "      <th>4496</th>\n",
       "      <td>1993</td>\n",
       "      <td>Farewell My Concubine</td>\n",
       "      <td>1055714</td>\n",
       "      <td>5</td>\n",
       "    </tr>\n",
       "    <tr>\n",
       "      <th>4496</th>\n",
       "      <td>1993</td>\n",
       "      <td>Farewell My Concubine</td>\n",
       "      <td>2643029</td>\n",
       "      <td>4</td>\n",
       "    </tr>\n",
       "    <tr>\n",
       "      <th>4496</th>\n",
       "      <td>1993</td>\n",
       "      <td>Farewell My Concubine</td>\n",
       "      <td>1559566</td>\n",
       "      <td>3</td>\n",
       "    </tr>\n",
       "    <tr>\n",
       "      <th>4496</th>\n",
       "      <td>1993</td>\n",
       "      <td>Farewell My Concubine</td>\n",
       "      <td>293198</td>\n",
       "      <td>3</td>\n",
       "    </tr>\n",
       "  </tbody>\n",
       "</table>\n",
       "</div>"
      ],
      "text/plain": [
       "          Year                   Name  User_ID  Rating\n",
       "Movie_ID                                              \n",
       "4496      1993  Farewell My Concubine   520675       3\n",
       "4496      1993  Farewell My Concubine  1055714       5\n",
       "4496      1993  Farewell My Concubine  2643029       4\n",
       "4496      1993  Farewell My Concubine  1559566       3\n",
       "4496      1993  Farewell My Concubine   293198       3"
      ]
     },
     "execution_count": 23,
     "metadata": {},
     "output_type": "execute_result"
    }
   ],
   "source": [
    "dfs.tail()"
   ]
  },
  {
   "cell_type": "code",
   "execution_count": 24,
   "id": "3dd1fb10-5bf1-4d0b-b8fc-c431ee560640",
   "metadata": {},
   "outputs": [
    {
     "data": {
      "text/html": [
       "<div>\n",
       "<style scoped>\n",
       "    .dataframe tbody tr th:only-of-type {\n",
       "        vertical-align: middle;\n",
       "    }\n",
       "\n",
       "    .dataframe tbody tr th {\n",
       "        vertical-align: top;\n",
       "    }\n",
       "\n",
       "    .dataframe thead th {\n",
       "        text-align: right;\n",
       "    }\n",
       "</style>\n",
       "<table border=\"1\" class=\"dataframe\">\n",
       "  <thead>\n",
       "    <tr style=\"text-align: right;\">\n",
       "      <th></th>\n",
       "      <th>Year</th>\n",
       "      <th>Name</th>\n",
       "      <th>User_ID</th>\n",
       "      <th>Rating</th>\n",
       "    </tr>\n",
       "    <tr>\n",
       "      <th>Movie_ID</th>\n",
       "      <th></th>\n",
       "      <th></th>\n",
       "      <th></th>\n",
       "      <th></th>\n",
       "    </tr>\n",
       "  </thead>\n",
       "  <tbody>\n",
       "  </tbody>\n",
       "</table>\n",
       "</div>"
      ],
      "text/plain": [
       "Empty DataFrame\n",
       "Columns: [Year, Name, User_ID, Rating]\n",
       "Index: []"
      ]
     },
     "execution_count": 24,
     "metadata": {},
     "output_type": "execute_result"
    }
   ],
   "source": [
    "#verify no NaN\n",
    "unrated=dfs[dfs[\"Rating\"].isna()]\n",
    "unrated.head()"
   ]
  },
  {
   "cell_type": "markdown",
   "id": "3bb2b614-800c-444e-865b-d75b41ab2067",
   "metadata": {},
   "source": [
    "Group by Movie_ID to view average rating per movies\n",
    "Sort averages descending to show highest rated "
   ]
  },
  {
   "cell_type": "code",
   "execution_count": 25,
   "id": "fae2307b-c945-47fe-aac9-39bf585b679c",
   "metadata": {},
   "outputs": [
    {
     "data": {
      "text/plain": [
       "Movie_ID  Name                                         \n",
       "3456      Lost: Season 1                                   4.665432\n",
       "2102      The Simpsons: Season 6                           4.589824\n",
       "3444      Family Guy: Freakin' Sweet Collection            4.520766\n",
       "1476      Six Feet Under: Season 4                         4.461601\n",
       "4238      Inu-Yasha                                        4.457774\n",
       "2568      Stargate SG-1: Season 8                          4.456026\n",
       "1256      The Best of Friends: Vol. 4                      4.449168\n",
       "4427      The West Wing: Season 3                          4.436258\n",
       "2452      Lord of the Rings: The Fellowship of the Ring    4.431489\n",
       "1947      Gilmore Girls: Season 3                          4.428943\n",
       "Name: Rating, dtype: float64"
      ]
     },
     "execution_count": 25,
     "metadata": {},
     "output_type": "execute_result"
    }
   ],
   "source": [
    "bymovies = dfs.groupby([\"Movie_ID\", \"Name\"])[\"Rating\"].mean().sort_values(ascending=False)\n",
    "bymovies.head(10)"
   ]
  },
  {
   "cell_type": "markdown",
   "id": "d4f0e33e-891d-45df-a336-fc527142983f",
   "metadata": {},
   "source": [
    "Found most generous users based on highest average rating and number of ratings."
   ]
  },
  {
   "cell_type": "code",
   "execution_count": 7,
   "id": "96312304-1827-4da1-b5c9-1ab210b67c33",
   "metadata": {},
   "outputs": [
    {
     "data": {
      "text/html": [
       "<div>\n",
       "<style scoped>\n",
       "    .dataframe tbody tr th:only-of-type {\n",
       "        vertical-align: middle;\n",
       "    }\n",
       "\n",
       "    .dataframe tbody tr th {\n",
       "        vertical-align: top;\n",
       "    }\n",
       "\n",
       "    .dataframe thead th {\n",
       "        text-align: right;\n",
       "    }\n",
       "</style>\n",
       "<table border=\"1\" class=\"dataframe\">\n",
       "  <thead>\n",
       "    <tr style=\"text-align: right;\">\n",
       "      <th></th>\n",
       "      <th>mean</th>\n",
       "      <th>count</th>\n",
       "    </tr>\n",
       "    <tr>\n",
       "      <th>User_ID</th>\n",
       "      <th></th>\n",
       "      <th></th>\n",
       "    </tr>\n",
       "  </thead>\n",
       "  <tbody>\n",
       "    <tr>\n",
       "      <th>794999</th>\n",
       "      <td>5.000000</td>\n",
       "      <td>797</td>\n",
       "    </tr>\n",
       "    <tr>\n",
       "      <th>1309838</th>\n",
       "      <td>5.000000</td>\n",
       "      <td>627</td>\n",
       "    </tr>\n",
       "    <tr>\n",
       "      <th>1745577</th>\n",
       "      <td>5.000000</td>\n",
       "      <td>366</td>\n",
       "    </tr>\n",
       "    <tr>\n",
       "      <th>336578</th>\n",
       "      <td>5.000000</td>\n",
       "      <td>231</td>\n",
       "    </tr>\n",
       "    <tr>\n",
       "      <th>1663569</th>\n",
       "      <td>5.000000</td>\n",
       "      <td>201</td>\n",
       "    </tr>\n",
       "    <tr>\n",
       "      <th>...</th>\n",
       "      <td>...</td>\n",
       "      <td>...</td>\n",
       "    </tr>\n",
       "    <tr>\n",
       "      <th>13227</th>\n",
       "      <td>1.311787</td>\n",
       "      <td>263</td>\n",
       "    </tr>\n",
       "    <tr>\n",
       "      <th>17707</th>\n",
       "      <td>1.172414</td>\n",
       "      <td>116</td>\n",
       "    </tr>\n",
       "    <tr>\n",
       "      <th>2640999</th>\n",
       "      <td>1.059761</td>\n",
       "      <td>251</td>\n",
       "    </tr>\n",
       "    <tr>\n",
       "      <th>1511683</th>\n",
       "      <td>1.000000</td>\n",
       "      <td>399</td>\n",
       "    </tr>\n",
       "    <tr>\n",
       "      <th>2170930</th>\n",
       "      <td>1.000000</td>\n",
       "      <td>215</td>\n",
       "    </tr>\n",
       "  </tbody>\n",
       "</table>\n",
       "<p>143418 rows × 2 columns</p>\n",
       "</div>"
      ],
      "text/plain": [
       "             mean  count\n",
       "User_ID                 \n",
       "794999   5.000000    797\n",
       "1309838  5.000000    627\n",
       "1745577  5.000000    366\n",
       "336578   5.000000    231\n",
       "1663569  5.000000    201\n",
       "...           ...    ...\n",
       "13227    1.311787    263\n",
       "17707    1.172414    116\n",
       "2640999  1.059761    251\n",
       "1511683  1.000000    399\n",
       "2170930  1.000000    215\n",
       "\n",
       "[143418 rows x 2 columns]"
      ]
     },
     "execution_count": 7,
     "metadata": {},
     "output_type": "execute_result"
    }
   ],
   "source": [
    "users=dfs.groupby(\"User_ID\")[\"Rating\"].agg([\"mean\", \"count\"]).sort_values(by=[\"mean\", \"count\"], ascending=[False, False])\n",
    "top_raters = users[users[\"count\"] > 20]\n",
    "half = int(len(top_raters / 2))\n",
    "most_generous = top_raters.head(half)\n",
    "most_generous"
   ]
  },
  {
   "cell_type": "markdown",
   "id": "0faaaa2c-37b9-431c-8725-949ef21be1d6",
   "metadata": {},
   "source": [
    "Copy the dataset, keep only years from 1900–2025, and create a new Decades column for analysis by decade."
   ]
  },
  {
   "cell_type": "code",
   "execution_count": 8,
   "id": "cfe5b7ba-9e9f-42ae-907b-488c2a3bf321",
   "metadata": {},
   "outputs": [],
   "source": [
    "df = dfs.copy()\n",
    "df=df[(df[\"Year\"] >= 1900) & (df[\"Year\"] <= 2025)]\n",
    "df[\"Decades\"] = (df[\"Year\"] // 10 * 10).astype(\"Int64\")"
   ]
  },
  {
   "cell_type": "code",
   "execution_count": 10,
   "id": "76bca7df-28a0-44f4-b3b2-cd7117a49d9c",
   "metadata": {},
   "outputs": [
    {
     "data": {
      "text/html": [
       "<div>\n",
       "<style scoped>\n",
       "    .dataframe tbody tr th:only-of-type {\n",
       "        vertical-align: middle;\n",
       "    }\n",
       "\n",
       "    .dataframe tbody tr th {\n",
       "        vertical-align: top;\n",
       "    }\n",
       "\n",
       "    .dataframe thead th {\n",
       "        text-align: right;\n",
       "    }\n",
       "</style>\n",
       "<table border=\"1\" class=\"dataframe\">\n",
       "  <thead>\n",
       "    <tr style=\"text-align: right;\">\n",
       "      <th></th>\n",
       "      <th>Year</th>\n",
       "      <th>Name</th>\n",
       "      <th>User_ID</th>\n",
       "      <th>Rating</th>\n",
       "      <th>Decades</th>\n",
       "    </tr>\n",
       "    <tr>\n",
       "      <th>Movie_ID</th>\n",
       "      <th></th>\n",
       "      <th></th>\n",
       "      <th></th>\n",
       "      <th></th>\n",
       "      <th></th>\n",
       "    </tr>\n",
       "  </thead>\n",
       "  <tbody>\n",
       "    <tr>\n",
       "      <th>607</th>\n",
       "      <td>1994</td>\n",
       "      <td>Speed</td>\n",
       "      <td>2497305</td>\n",
       "      <td>4</td>\n",
       "      <td>1990</td>\n",
       "    </tr>\n",
       "    <tr>\n",
       "      <th>1102</th>\n",
       "      <td>2001</td>\n",
       "      <td>Training Day</td>\n",
       "      <td>1960600</td>\n",
       "      <td>4</td>\n",
       "      <td>2000</td>\n",
       "    </tr>\n",
       "    <tr>\n",
       "      <th>1260</th>\n",
       "      <td>1999</td>\n",
       "      <td>Journey to the Center of the Earth</td>\n",
       "      <td>2411423</td>\n",
       "      <td>3</td>\n",
       "      <td>1990</td>\n",
       "    </tr>\n",
       "    <tr>\n",
       "      <th>3626</th>\n",
       "      <td>2002</td>\n",
       "      <td>25th Hour</td>\n",
       "      <td>1323186</td>\n",
       "      <td>3</td>\n",
       "      <td>2000</td>\n",
       "    </tr>\n",
       "    <tr>\n",
       "      <th>1660</th>\n",
       "      <td>2000</td>\n",
       "      <td>SpongeBob SquarePants: Season 2</td>\n",
       "      <td>1209950</td>\n",
       "      <td>1</td>\n",
       "      <td>2000</td>\n",
       "    </tr>\n",
       "  </tbody>\n",
       "</table>\n",
       "</div>"
      ],
      "text/plain": [
       "          Year                                Name  User_ID  Rating  Decades\n",
       "Movie_ID                                                                    \n",
       "607       1994                               Speed  2497305       4     1990\n",
       "1102      2001                        Training Day  1960600       4     2000\n",
       "1260      1999  Journey to the Center of the Earth  2411423       3     1990\n",
       "3626      2002                           25th Hour  1323186       3     2000\n",
       "1660      2000     SpongeBob SquarePants: Season 2  1209950       1     2000"
      ]
     },
     "execution_count": 10,
     "metadata": {},
     "output_type": "execute_result"
    }
   ],
   "source": [
    "df.sample(5)"
   ]
  },
  {
   "cell_type": "code",
   "execution_count": 11,
   "id": "13f5fce2-9b31-4eff-b199-266a42cdfc04",
   "metadata": {},
   "outputs": [],
   "source": [
    "decade_stats = (df.dropna(subset=[\"Rating\"]).groupby(\"Decades\").agg(mean_rating=(\"Rating\", \"mean\"), num_ratings=(\"Rating\", \"count\"), num_titles=(\"Name\", \"nunique\")).sort_index())"
   ]
  },
  {
   "cell_type": "code",
   "execution_count": 12,
   "id": "8a446a90-b3da-4419-ab51-633643d39613",
   "metadata": {},
   "outputs": [
    {
     "data": {
      "text/html": [
       "<div>\n",
       "<style scoped>\n",
       "    .dataframe tbody tr th:only-of-type {\n",
       "        vertical-align: middle;\n",
       "    }\n",
       "\n",
       "    .dataframe tbody tr th {\n",
       "        vertical-align: top;\n",
       "    }\n",
       "\n",
       "    .dataframe thead th {\n",
       "        text-align: right;\n",
       "    }\n",
       "</style>\n",
       "<table border=\"1\" class=\"dataframe\">\n",
       "  <thead>\n",
       "    <tr style=\"text-align: right;\">\n",
       "      <th></th>\n",
       "      <th>mean_rating</th>\n",
       "      <th>num_ratings</th>\n",
       "      <th>num_titles</th>\n",
       "    </tr>\n",
       "    <tr>\n",
       "      <th>Decades</th>\n",
       "      <th></th>\n",
       "      <th></th>\n",
       "      <th></th>\n",
       "    </tr>\n",
       "  </thead>\n",
       "  <tbody>\n",
       "    <tr>\n",
       "      <th>1920</th>\n",
       "      <td>3.644350</td>\n",
       "      <td>14070</td>\n",
       "      <td>3</td>\n",
       "    </tr>\n",
       "    <tr>\n",
       "      <th>1930</th>\n",
       "      <td>4.010075</td>\n",
       "      <td>129921</td>\n",
       "      <td>16</td>\n",
       "    </tr>\n",
       "    <tr>\n",
       "      <th>1940</th>\n",
       "      <td>3.882224</td>\n",
       "      <td>112816</td>\n",
       "      <td>23</td>\n",
       "    </tr>\n",
       "    <tr>\n",
       "      <th>1950</th>\n",
       "      <td>3.906045</td>\n",
       "      <td>334980</td>\n",
       "      <td>45</td>\n",
       "    </tr>\n",
       "    <tr>\n",
       "      <th>1960</th>\n",
       "      <td>3.766029</td>\n",
       "      <td>378350</td>\n",
       "      <td>63</td>\n",
       "    </tr>\n",
       "    <tr>\n",
       "      <th>1970</th>\n",
       "      <td>3.761581</td>\n",
       "      <td>745604</td>\n",
       "      <td>80</td>\n",
       "    </tr>\n",
       "    <tr>\n",
       "      <th>1980</th>\n",
       "      <td>3.608146</td>\n",
       "      <td>2283876</td>\n",
       "      <td>200</td>\n",
       "    </tr>\n",
       "    <tr>\n",
       "      <th>1990</th>\n",
       "      <td>3.594061</td>\n",
       "      <td>5520649</td>\n",
       "      <td>451</td>\n",
       "    </tr>\n",
       "    <tr>\n",
       "      <th>2000</th>\n",
       "      <td>3.533370</td>\n",
       "      <td>7817192</td>\n",
       "      <td>469</td>\n",
       "    </tr>\n",
       "  </tbody>\n",
       "</table>\n",
       "</div>"
      ],
      "text/plain": [
       "         mean_rating  num_ratings  num_titles\n",
       "Decades                                      \n",
       "1920        3.644350        14070           3\n",
       "1930        4.010075       129921          16\n",
       "1940        3.882224       112816          23\n",
       "1950        3.906045       334980          45\n",
       "1960        3.766029       378350          63\n",
       "1970        3.761581       745604          80\n",
       "1980        3.608146      2283876         200\n",
       "1990        3.594061      5520649         451\n",
       "2000        3.533370      7817192         469"
      ]
     },
     "execution_count": 12,
     "metadata": {},
     "output_type": "execute_result"
    }
   ],
   "source": [
    "decade_stats"
   ]
  },
  {
   "cell_type": "markdown",
   "id": "2296de2d-8736-46c2-b642-5cf4b134de62",
   "metadata": {},
   "source": [
    "Filter decades to those with at least 200 ratings, then create a bar chart showing the average movie rating per decade."
   ]
  },
  {
   "cell_type": "code",
   "execution_count": 13,
   "id": "0f6f35ba-e0f0-4651-93bc-a9d5172bac38",
   "metadata": {},
   "outputs": [
    {
     "data": {
      "image/png": "[encoded data removed]",
      "text/plain": [
       "<Figure size 640x480 with 1 Axes>"
      ]
     },
     "metadata": {},
     "output_type": "display_data"
    }
   ],
   "source": [
    "MIN_RATINGS = 200\n",
    "decade_stats_filtered = decade_stats[decade_stats['num_ratings'] >= MIN_RATINGS]\n",
    "decade_stats_filtered['mean_rating'].plot(kind='bar', rot=45)\n",
    "plt.title('Average Rating by Release Decade')\n",
    "plt.ylabel('Average Rating')\n",
    "plt.xlabel('Decade')\n",
    "plt.show()"
   ]
  },
  {
   "cell_type": "code",
   "execution_count": 14,
   "id": "2ad62404-bb80-4193-80cb-7e2d6e9c0334",
   "metadata": {},
   "outputs": [
    {
     "data": {
      "text/html": [
       "<div>\n",
       "<style scoped>\n",
       "    .dataframe tbody tr th:only-of-type {\n",
       "        vertical-align: middle;\n",
       "    }\n",
       "\n",
       "    .dataframe tbody tr th {\n",
       "        vertical-align: top;\n",
       "    }\n",
       "\n",
       "    .dataframe thead th {\n",
       "        text-align: right;\n",
       "    }\n",
       "</style>\n",
       "<table border=\"1\" class=\"dataframe\">\n",
       "  <thead>\n",
       "    <tr style=\"text-align: right;\">\n",
       "      <th></th>\n",
       "      <th>count</th>\n",
       "      <th>mean</th>\n",
       "    </tr>\n",
       "    <tr>\n",
       "      <th>Name</th>\n",
       "      <th></th>\n",
       "      <th></th>\n",
       "    </tr>\n",
       "  </thead>\n",
       "  <tbody>\n",
       "    <tr>\n",
       "      <th>Battleship Potemkin</th>\n",
       "      <td>2892</td>\n",
       "      <td>3.818465</td>\n",
       "    </tr>\n",
       "    <tr>\n",
       "      <th>Nosferatu: Original Version</th>\n",
       "      <td>7923</td>\n",
       "      <td>3.684463</td>\n",
       "    </tr>\n",
       "    <tr>\n",
       "      <th>The Mark of Zorro</th>\n",
       "      <td>3255</td>\n",
       "      <td>3.392012</td>\n",
       "    </tr>\n",
       "  </tbody>\n",
       "</table>\n",
       "</div>"
      ],
      "text/plain": [
       "                             count      mean\n",
       "Name                                        \n",
       "Battleship Potemkin           2892  3.818465\n",
       "Nosferatu: Original Version   7923  3.684463\n",
       "The Mark of Zorro             3255  3.392012"
      ]
     },
     "execution_count": 14,
     "metadata": {},
     "output_type": "execute_result"
    }
   ],
   "source": [
    "twenties = df[df[\"Decades\"]== 1920].groupby(\"Name\")[\"Rating\"].agg([\"count\", \"mean\"])\n",
    "twenties"
   ]
  },
  {
   "cell_type": "markdown",
   "id": "f351b275-47c9-41b9-8749-d1307c3a81a4",
   "metadata": {},
   "source": [
    "Filtered the dataset to include only the most generous users, then grouped by User_ID to calculate their average rating, number of ratings, and standard deviation of ratings. The standard deviation is then used to visualize rating variability across users."
   ]
  },
  {
   "cell_type": "code",
   "execution_count": 29,
   "id": "743dcf73-50c3-4fec-acb7-7e8dd31d1b6c",
   "metadata": {},
   "outputs": [
    {
     "data": {
      "text/html": [
       "<div>\n",
       "<style scoped>\n",
       "    .dataframe tbody tr th:only-of-type {\n",
       "        vertical-align: middle;\n",
       "    }\n",
       "\n",
       "    .dataframe tbody tr th {\n",
       "        vertical-align: top;\n",
       "    }\n",
       "\n",
       "    .dataframe thead th {\n",
       "        text-align: right;\n",
       "    }\n",
       "</style>\n",
       "<table border=\"1\" class=\"dataframe\">\n",
       "  <thead>\n",
       "    <tr style=\"text-align: right;\">\n",
       "      <th></th>\n",
       "      <th>average_rating</th>\n",
       "      <th>rating_count</th>\n",
       "      <th>rating_std</th>\n",
       "    </tr>\n",
       "    <tr>\n",
       "      <th>User_ID</th>\n",
       "      <th></th>\n",
       "      <th></th>\n",
       "      <th></th>\n",
       "    </tr>\n",
       "  </thead>\n",
       "  <tbody>\n",
       "    <tr>\n",
       "      <th>794999</th>\n",
       "      <td>5.000000</td>\n",
       "      <td>797</td>\n",
       "      <td>0.000000</td>\n",
       "    </tr>\n",
       "    <tr>\n",
       "      <th>1309838</th>\n",
       "      <td>5.000000</td>\n",
       "      <td>627</td>\n",
       "      <td>0.000000</td>\n",
       "    </tr>\n",
       "    <tr>\n",
       "      <th>1745577</th>\n",
       "      <td>5.000000</td>\n",
       "      <td>366</td>\n",
       "      <td>0.000000</td>\n",
       "    </tr>\n",
       "    <tr>\n",
       "      <th>336578</th>\n",
       "      <td>5.000000</td>\n",
       "      <td>231</td>\n",
       "      <td>0.000000</td>\n",
       "    </tr>\n",
       "    <tr>\n",
       "      <th>1663569</th>\n",
       "      <td>5.000000</td>\n",
       "      <td>201</td>\n",
       "      <td>0.000000</td>\n",
       "    </tr>\n",
       "    <tr>\n",
       "      <th>...</th>\n",
       "      <td>...</td>\n",
       "      <td>...</td>\n",
       "      <td>...</td>\n",
       "    </tr>\n",
       "    <tr>\n",
       "      <th>13227</th>\n",
       "      <td>1.311787</td>\n",
       "      <td>263</td>\n",
       "      <td>0.705576</td>\n",
       "    </tr>\n",
       "    <tr>\n",
       "      <th>17707</th>\n",
       "      <td>1.172414</td>\n",
       "      <td>116</td>\n",
       "      <td>0.379378</td>\n",
       "    </tr>\n",
       "    <tr>\n",
       "      <th>2640999</th>\n",
       "      <td>1.059761</td>\n",
       "      <td>251</td>\n",
       "      <td>0.473724</td>\n",
       "    </tr>\n",
       "    <tr>\n",
       "      <th>1511683</th>\n",
       "      <td>1.000000</td>\n",
       "      <td>399</td>\n",
       "      <td>0.000000</td>\n",
       "    </tr>\n",
       "    <tr>\n",
       "      <th>2170930</th>\n",
       "      <td>1.000000</td>\n",
       "      <td>215</td>\n",
       "      <td>0.000000</td>\n",
       "    </tr>\n",
       "  </tbody>\n",
       "</table>\n",
       "<p>143418 rows × 3 columns</p>\n",
       "</div>"
      ],
      "text/plain": [
       "         average_rating  rating_count  rating_std\n",
       "User_ID                                          \n",
       "794999         5.000000           797    0.000000\n",
       "1309838        5.000000           627    0.000000\n",
       "1745577        5.000000           366    0.000000\n",
       "336578         5.000000           231    0.000000\n",
       "1663569        5.000000           201    0.000000\n",
       "...                 ...           ...         ...\n",
       "13227          1.311787           263    0.705576\n",
       "17707          1.172414           116    0.379378\n",
       "2640999        1.059761           251    0.473724\n",
       "1511683        1.000000           399    0.000000\n",
       "2170930        1.000000           215    0.000000\n",
       "\n",
       "[143418 rows x 3 columns]"
      ]
     },
     "execution_count": 29,
     "metadata": {},
     "output_type": "execute_result"
    }
   ],
   "source": [
    "df_HR = df[df[\"User_ID\"].isin(most_generous.index)]\n",
    "user_std = df_HR.groupby(\"User_ID\").agg(average_rating=(\"Rating\", \"mean\"),\n",
    "                                       rating_count=(\"Rating\", \"count\"), rating_std=(\"Rating\", \"std\")).sort_values(by=[\n",
    "                                        'average_rating', 'rating_count', 'rating_std'], ascending=[False, False, False])\n",
    "user_std"
   ]
  },
  {
   "cell_type": "markdown",
   "id": "5edd4c22-f652-43f1-a494-1e6d6c7a5bb6",
   "metadata": {},
   "source": [
    "This histogram shows the distribution of rating variability among the most generous users. Higher standard deviation indicates users whose ratings are more spread out, while lower values show users who rate consistently."
   ]
  },
  {
   "cell_type": "code",
   "execution_count": 46,
   "id": "5c346806-4269-4711-88e2-a24f7594de26",
   "metadata": {},
   "outputs": [
    {
     "data": {
      "image/png": "[encoded data removed]",
      "text/plain": [
       "<Figure size 640x480 with 1 Axes>"
      ]
     },
     "metadata": {},
     "output_type": "display_data"
    }
   ],
   "source": [
    "sns.histplot(user_std['rating_std'], bins=30)\n",
    "plt.title(\"Distribution of Rating Variability for Most Generous Users\")\n",
    "plt.xlabel(\"Rating Standard Deviation\")\n",
    "plt.ylabel(\"Number of Users\")\n",
    "plt.show()"
   ]
  },
  {
   "cell_type": "code",
   "execution_count": null,
   "id": "4d4c4bc5-8d23-4afe-a76c-f99d5ce808f9",
   "metadata": {},
   "outputs": [],
   "source": []
  },
  {
   "cell_type": "code",
   "execution_count": null,
   "id": "33a22dad-59ae-4afc-bbb6-d0b8ed8dc32c",
   "metadata": {},
   "outputs": [],
   "source": []
  }
 ],
 "metadata": {
  "kernelspec": {
   "display_name": "Python 3 (ipykernel)",
   "language": "python",
   "name": "python3"
  },
  "language_info": {
   "codemirror_mode": {
    "name": "ipython",
    "version": 3
   },
   "file_extension": ".py",
   "mimetype": "text/x-python",
   "name": "python",
   "nbconvert_exporter": "python",
   "pygments_lexer": "ipython3",
   "version": "3.13.5"
  }
 },
 "nbformat": 4,
 "nbformat_minor": 5
}
